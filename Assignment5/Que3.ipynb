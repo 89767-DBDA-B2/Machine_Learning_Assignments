{
 "cells": [
  {
   "cell_type": "code",
   "execution_count": null,
   "id": "fc3f6982-2687-4ddc-b4e4-8949c396d959",
   "metadata": {},
   "outputs": [],
   "source": [
    "Que3.-\n",
    "In this dataset you have to predict that whether we have to give ATTORNEY to the clients or not (0=Yes, 1=No) based on below factors.\n",
    "CLMAGE - Age of Client\n",
    "CLMSEX - Sex of client (0=Male, 1= Female)\n",
    "SEATBELT - Whether client has Seatbelt or not (0=Yes, 1=No)\n",
    "CLMINSUR - Whether Client give Insurance or not (0=Yes, 1=No)\n",
    "LOSS - Loss that client faced\n",
    "\n",
    "Prepare model by using Decision Tree, Random Forest , AdaBoost, CatBoost, XGBoost & Calculate Accuracy by confusion matrix, Calculate accuracy score, precision score, recall score, f1 score.\n",
    "\n",
    "Dataset : Claimants.csv"
   ]
  },
  {
   "cell_type": "code",
   "execution_count": 1,
   "id": "ed97aec7-0bce-405f-91b0-812cd5c62c2f",
   "metadata": {},
   "outputs": [],
   "source": [
    "import warnings\n",
    "warnings.filterwarnings(action=\"ignore\")"
   ]
  },
  {
   "cell_type": "code",
   "execution_count": 2,
   "id": "a03e5892-a11a-492e-bd85-1ad59734a023",
   "metadata": {},
   "outputs": [],
   "source": [
    "import numpy as np \n",
    "import pandas as pd \n",
    "import matplotlib.pyplot as plt \n",
    "import seaborn as sns "
   ]
  },
  {
   "cell_type": "code",
   "execution_count": 4,
   "id": "7ed09d50-1218-4bf7-8b05-b6d12830c520",
   "metadata": {},
   "outputs": [
    {
     "data": {
      "text/html": [
       "<div>\n",
       "<style scoped>\n",
       "    .dataframe tbody tr th:only-of-type {\n",
       "        vertical-align: middle;\n",
       "    }\n",
       "\n",
       "    .dataframe tbody tr th {\n",
       "        vertical-align: top;\n",
       "    }\n",
       "\n",
       "    .dataframe thead th {\n",
       "        text-align: right;\n",
       "    }\n",
       "</style>\n",
       "<table border=\"1\" class=\"dataframe\">\n",
       "  <thead>\n",
       "    <tr style=\"text-align: right;\">\n",
       "      <th></th>\n",
       "      <th>ATTORNEY</th>\n",
       "      <th>CLMSEX</th>\n",
       "      <th>CLMINSUR</th>\n",
       "      <th>SEATBELT</th>\n",
       "      <th>CLMAGE</th>\n",
       "      <th>LOSS</th>\n",
       "    </tr>\n",
       "  </thead>\n",
       "  <tbody>\n",
       "    <tr>\n",
       "      <th>0</th>\n",
       "      <td>0</td>\n",
       "      <td>0.0</td>\n",
       "      <td>1.0</td>\n",
       "      <td>0.0</td>\n",
       "      <td>50.0</td>\n",
       "      <td>34.940</td>\n",
       "    </tr>\n",
       "    <tr>\n",
       "      <th>1</th>\n",
       "      <td>1</td>\n",
       "      <td>1.0</td>\n",
       "      <td>0.0</td>\n",
       "      <td>0.0</td>\n",
       "      <td>18.0</td>\n",
       "      <td>0.891</td>\n",
       "    </tr>\n",
       "    <tr>\n",
       "      <th>2</th>\n",
       "      <td>1</td>\n",
       "      <td>0.0</td>\n",
       "      <td>1.0</td>\n",
       "      <td>0.0</td>\n",
       "      <td>5.0</td>\n",
       "      <td>0.330</td>\n",
       "    </tr>\n",
       "    <tr>\n",
       "      <th>3</th>\n",
       "      <td>0</td>\n",
       "      <td>0.0</td>\n",
       "      <td>1.0</td>\n",
       "      <td>1.0</td>\n",
       "      <td>31.0</td>\n",
       "      <td>0.037</td>\n",
       "    </tr>\n",
       "    <tr>\n",
       "      <th>4</th>\n",
       "      <td>1</td>\n",
       "      <td>0.0</td>\n",
       "      <td>1.0</td>\n",
       "      <td>0.0</td>\n",
       "      <td>30.0</td>\n",
       "      <td>0.038</td>\n",
       "    </tr>\n",
       "  </tbody>\n",
       "</table>\n",
       "</div>"
      ],
      "text/plain": [
       "   ATTORNEY  CLMSEX  CLMINSUR  SEATBELT  CLMAGE    LOSS\n",
       "0         0     0.0       1.0       0.0    50.0  34.940\n",
       "1         1     1.0       0.0       0.0    18.0   0.891\n",
       "2         1     0.0       1.0       0.0     5.0   0.330\n",
       "3         0     0.0       1.0       1.0    31.0   0.037\n",
       "4         1     0.0       1.0       0.0    30.0   0.038"
      ]
     },
     "execution_count": 4,
     "metadata": {},
     "output_type": "execute_result"
    }
   ],
   "source": [
    "df = pd.read_csv(\"claimants.csv\")\n",
    "df.head(5)"
   ]
  },
  {
   "cell_type": "code",
   "execution_count": 5,
   "id": "dd53b332-4e62-4e8f-9bae-3d82297ee38e",
   "metadata": {},
   "outputs": [
    {
     "name": "stdout",
     "output_type": "stream",
     "text": [
      "<class 'pandas.core.frame.DataFrame'>\n",
      "RangeIndex: 1340 entries, 0 to 1339\n",
      "Data columns (total 6 columns):\n",
      " #   Column    Non-Null Count  Dtype  \n",
      "---  ------    --------------  -----  \n",
      " 0   ATTORNEY  1340 non-null   int64  \n",
      " 1   CLMSEX    1328 non-null   float64\n",
      " 2   CLMINSUR  1299 non-null   float64\n",
      " 3   SEATBELT  1292 non-null   float64\n",
      " 4   CLMAGE    1151 non-null   float64\n",
      " 5   LOSS      1340 non-null   float64\n",
      "dtypes: float64(5), int64(1)\n",
      "memory usage: 62.9 KB\n"
     ]
    }
   ],
   "source": [
    "df.info()"
   ]
  },
  {
   "cell_type": "code",
   "execution_count": 8,
   "id": "e4390db1-6033-466c-85f3-bcaa946bd9de",
   "metadata": {},
   "outputs": [],
   "source": [
    "df['CLMSEX'] = df['CLMSEX'].fillna(df['CLMSEX'].mode()[0])\n",
    "df['CLMINSUR'] = df['CLMINSUR'].fillna(df['CLMINSUR'].mode()[0])\n",
    "df['SEATBELT'] = df['SEATBELT'].fillna(df['SEATBELT'].mode()[0])\n",
    "df['CLMAGE'] = df['CLMAGE'].fillna(df['CLMAGE'].mean())"
   ]
  },
  {
   "cell_type": "code",
   "execution_count": 9,
   "id": "c34ef726-50ca-4504-9a97-0f2de2b04cd0",
   "metadata": {},
   "outputs": [
    {
     "name": "stdout",
     "output_type": "stream",
     "text": [
      "<class 'pandas.core.frame.DataFrame'>\n",
      "RangeIndex: 1340 entries, 0 to 1339\n",
      "Data columns (total 6 columns):\n",
      " #   Column    Non-Null Count  Dtype  \n",
      "---  ------    --------------  -----  \n",
      " 0   ATTORNEY  1340 non-null   int64  \n",
      " 1   CLMSEX    1340 non-null   float64\n",
      " 2   CLMINSUR  1340 non-null   float64\n",
      " 3   SEATBELT  1340 non-null   float64\n",
      " 4   CLMAGE    1340 non-null   float64\n",
      " 5   LOSS      1340 non-null   float64\n",
      "dtypes: float64(5), int64(1)\n",
      "memory usage: 62.9 KB\n"
     ]
    }
   ],
   "source": [
    "df.info()"
   ]
  },
  {
   "cell_type": "code",
   "execution_count": 10,
   "id": "28bbb8b4-9c43-44b6-8b9a-3c2ddc1bf1c3",
   "metadata": {},
   "outputs": [
    {
     "data": {
      "text/html": [
       "<div>\n",
       "<style scoped>\n",
       "    .dataframe tbody tr th:only-of-type {\n",
       "        vertical-align: middle;\n",
       "    }\n",
       "\n",
       "    .dataframe tbody tr th {\n",
       "        vertical-align: top;\n",
       "    }\n",
       "\n",
       "    .dataframe thead th {\n",
       "        text-align: right;\n",
       "    }\n",
       "</style>\n",
       "<table border=\"1\" class=\"dataframe\">\n",
       "  <thead>\n",
       "    <tr style=\"text-align: right;\">\n",
       "      <th></th>\n",
       "      <th>ATTORNEY</th>\n",
       "      <th>CLMSEX</th>\n",
       "      <th>CLMINSUR</th>\n",
       "      <th>SEATBELT</th>\n",
       "      <th>CLMAGE</th>\n",
       "      <th>LOSS</th>\n",
       "    </tr>\n",
       "  </thead>\n",
       "  <tbody>\n",
       "    <tr>\n",
       "      <th>ATTORNEY</th>\n",
       "      <td>1.000000</td>\n",
       "      <td>0.076564</td>\n",
       "      <td>0.076631</td>\n",
       "      <td>-0.055848</td>\n",
       "      <td>0.009886</td>\n",
       "      <td>-0.219715</td>\n",
       "    </tr>\n",
       "    <tr>\n",
       "      <th>CLMSEX</th>\n",
       "      <td>0.076564</td>\n",
       "      <td>1.000000</td>\n",
       "      <td>0.065976</td>\n",
       "      <td>-0.016327</td>\n",
       "      <td>-0.022444</td>\n",
       "      <td>-0.028412</td>\n",
       "    </tr>\n",
       "    <tr>\n",
       "      <th>CLMINSUR</th>\n",
       "      <td>0.076631</td>\n",
       "      <td>0.065976</td>\n",
       "      <td>1.000000</td>\n",
       "      <td>0.019953</td>\n",
       "      <td>0.044706</td>\n",
       "      <td>0.004641</td>\n",
       "    </tr>\n",
       "    <tr>\n",
       "      <th>SEATBELT</th>\n",
       "      <td>-0.055848</td>\n",
       "      <td>-0.016327</td>\n",
       "      <td>0.019953</td>\n",
       "      <td>1.000000</td>\n",
       "      <td>-0.025379</td>\n",
       "      <td>0.111879</td>\n",
       "    </tr>\n",
       "    <tr>\n",
       "      <th>CLMAGE</th>\n",
       "      <td>0.009886</td>\n",
       "      <td>-0.022444</td>\n",
       "      <td>0.044706</td>\n",
       "      <td>-0.025379</td>\n",
       "      <td>1.000000</td>\n",
       "      <td>0.057641</td>\n",
       "    </tr>\n",
       "    <tr>\n",
       "      <th>LOSS</th>\n",
       "      <td>-0.219715</td>\n",
       "      <td>-0.028412</td>\n",
       "      <td>0.004641</td>\n",
       "      <td>0.111879</td>\n",
       "      <td>0.057641</td>\n",
       "      <td>1.000000</td>\n",
       "    </tr>\n",
       "  </tbody>\n",
       "</table>\n",
       "</div>"
      ],
      "text/plain": [
       "          ATTORNEY    CLMSEX  CLMINSUR  SEATBELT    CLMAGE      LOSS\n",
       "ATTORNEY  1.000000  0.076564  0.076631 -0.055848  0.009886 -0.219715\n",
       "CLMSEX    0.076564  1.000000  0.065976 -0.016327 -0.022444 -0.028412\n",
       "CLMINSUR  0.076631  0.065976  1.000000  0.019953  0.044706  0.004641\n",
       "SEATBELT -0.055848 -0.016327  0.019953  1.000000 -0.025379  0.111879\n",
       "CLMAGE    0.009886 -0.022444  0.044706 -0.025379  1.000000  0.057641\n",
       "LOSS     -0.219715 -0.028412  0.004641  0.111879  0.057641  1.000000"
      ]
     },
     "execution_count": 10,
     "metadata": {},
     "output_type": "execute_result"
    }
   ],
   "source": [
    "df.corr()"
   ]
  },
  {
   "cell_type": "markdown",
   "id": "7ac93146-ee1f-452d-a445-1c2b569b1b5f",
   "metadata": {},
   "source": [
    "### split into x and y "
   ]
  },
  {
   "cell_type": "code",
   "execution_count": 11,
   "id": "fc820c1f-4ab0-4330-b4e9-9b8fad2f6e21",
   "metadata": {},
   "outputs": [],
   "source": [
    "x = df.drop(['ATTORNEY'], axis=1)\n",
    "\n",
    "y = df['ATTORNEY']"
   ]
  },
  {
   "cell_type": "code",
   "execution_count": 12,
   "id": "62f7750d-b444-4f7e-99ab-a65488cbdfe9",
   "metadata": {},
   "outputs": [],
   "source": [
    "from sklearn.model_selection import train_test_split \n",
    "x_train, x_test, y_train, y_test = train_test_split(\n",
    "    x,y,train_size=0.8, random_state=123456\n",
    ")"
   ]
  },
  {
   "cell_type": "code",
   "execution_count": 13,
   "id": "b94694fe-9161-4036-9454-af79cd8bb1fc",
   "metadata": {},
   "outputs": [],
   "source": [
    "from sklearn.tree import DecisionTreeClassifier \n",
    "def create_decision_tree_model(): \n",
    "    model = DecisionTreeClassifier(max_depth=5)\n",
    "    model.fit(x_train, y_train)\n",
    "\n",
    "    return model"
   ]
  },
  {
   "cell_type": "code",
   "execution_count": 14,
   "id": "0aa06617-ae78-4a40-8261-85de5e9b7bd3",
   "metadata": {},
   "outputs": [],
   "source": [
    "from sklearn.ensemble import RandomForestClassifier \n",
    "def create_random_forest_model(): \n",
    "    model = RandomForestClassifier(n_estimators=34, max_depth=5)\n",
    "    model.fit(x_train, y_train)\n",
    "\n",
    "    return model"
   ]
  },
  {
   "cell_type": "code",
   "execution_count": 15,
   "id": "49b83255-f06e-4bab-b474-e8063a667175",
   "metadata": {},
   "outputs": [],
   "source": [
    "from sklearn.ensemble import AdaBoostClassifier \n",
    "def create_adaboost_model():\n",
    "    model = AdaBoostClassifier(n_estimators=25, learning_rate=0.2)\n",
    "    model.fit(x_train, y_train)\n",
    "    return model"
   ]
  },
  {
   "cell_type": "code",
   "execution_count": 16,
   "id": "8136b3aa-55ef-48a6-b94a-d664efce52aa",
   "metadata": {},
   "outputs": [],
   "source": [
    "from catboost import CatBoostClassifier \n",
    "def create_catboost_model():\n",
    "    model = CatBoostClassifier(n_estimators=34, learning_rate=0.2)\n",
    "    model.fit(x_train, y_train)\n",
    "    return model"
   ]
  },
  {
   "cell_type": "code",
   "execution_count": 17,
   "id": "7ce1ff22-7803-4973-a48b-07a959799418",
   "metadata": {},
   "outputs": [],
   "source": [
    "from xgboost import XGBClassifier \n",
    "def create_xgboost_model(): \n",
    "    model = XGBClassifier(n_estimators=35, max_depth=2, learning_rate=0.2)\n",
    "\n",
    "# train the model\n",
    "    model.fit(x_train, y_train)\n",
    "\n",
    "    return model"
   ]
  },
  {
   "cell_type": "code",
   "execution_count": 18,
   "id": "d38d1a4f-f22c-4b77-a245-29779a6f9cf0",
   "metadata": {},
   "outputs": [],
   "source": [
    "from sklearn.metrics import accuracy_score, precision_score, recall_score, f1_score\n",
    "\n",
    "def evaluate_model_on_test_dataset(model):\n",
    "    y_pred = model.predict(x_test)\n",
    "\n",
    "    accuracy = accuracy_score(y_test, y_pred)\n",
    "    precision = precision_score(y_test, y_pred, average=\"macro\")\n",
    "    recall = recall_score(y_test, y_pred, average=\"macro\")\n",
    "    f1 = f1_score(y_test, y_pred, average=\"macro\")\n",
    "    return f\"{accuracy:.2f}\", f\"{precision:.2f}\", f\"{recall:.2f}\", f\"{f1:.2f}\""
   ]
  },
  {
   "cell_type": "code",
   "execution_count": 19,
   "id": "b125d788-d329-42ca-b948-d0e6b6d50df1",
   "metadata": {},
   "outputs": [
    {
     "name": "stdout",
     "output_type": "stream",
     "text": [
      "0:\tlearn: 0.6578424\ttotal: 47.7ms\tremaining: 1.57s\n",
      "1:\tlearn: 0.6320251\ttotal: 48.4ms\tremaining: 774ms\n",
      "2:\tlearn: 0.6132424\ttotal: 49.4ms\tremaining: 510ms\n",
      "3:\tlearn: 0.5997529\ttotal: 50.4ms\tremaining: 378ms\n",
      "4:\tlearn: 0.5896748\ttotal: 51ms\tremaining: 296ms\n",
      "5:\tlearn: 0.5802808\ttotal: 52ms\tremaining: 243ms\n",
      "6:\tlearn: 0.5747787\ttotal: 52.9ms\tremaining: 204ms\n",
      "7:\tlearn: 0.5703733\ttotal: 53.8ms\tremaining: 175ms\n",
      "8:\tlearn: 0.5670095\ttotal: 54.9ms\tremaining: 153ms\n",
      "9:\tlearn: 0.5643427\ttotal: 55.9ms\tremaining: 134ms\n",
      "10:\tlearn: 0.5614309\ttotal: 56.8ms\tremaining: 119ms\n",
      "11:\tlearn: 0.5583002\ttotal: 57.7ms\tremaining: 106ms\n",
      "12:\tlearn: 0.5562036\ttotal: 58.7ms\tremaining: 94.8ms\n",
      "13:\tlearn: 0.5546408\ttotal: 59.7ms\tremaining: 85.2ms\n",
      "14:\tlearn: 0.5525354\ttotal: 60.6ms\tremaining: 76.7ms\n",
      "15:\tlearn: 0.5507245\ttotal: 61.5ms\tremaining: 69.2ms\n",
      "16:\tlearn: 0.5488878\ttotal: 62.4ms\tremaining: 62.4ms\n",
      "17:\tlearn: 0.5475752\ttotal: 63.4ms\tremaining: 56.3ms\n",
      "18:\tlearn: 0.5463063\ttotal: 64.3ms\tremaining: 50.8ms\n",
      "19:\tlearn: 0.5451638\ttotal: 65.3ms\tremaining: 45.7ms\n",
      "20:\tlearn: 0.5442630\ttotal: 66.2ms\tremaining: 41ms\n",
      "21:\tlearn: 0.5436581\ttotal: 67.2ms\tremaining: 36.6ms\n",
      "22:\tlearn: 0.5435627\ttotal: 67.6ms\tremaining: 32.3ms\n",
      "23:\tlearn: 0.5428015\ttotal: 68.5ms\tremaining: 28.6ms\n",
      "24:\tlearn: 0.5411863\ttotal: 69.6ms\tremaining: 25.1ms\n",
      "25:\tlearn: 0.5397791\ttotal: 70.5ms\tremaining: 21.7ms\n",
      "26:\tlearn: 0.5387462\ttotal: 71.5ms\tremaining: 18.5ms\n",
      "27:\tlearn: 0.5379943\ttotal: 72.5ms\tremaining: 15.5ms\n",
      "28:\tlearn: 0.5370192\ttotal: 73.4ms\tremaining: 12.7ms\n",
      "29:\tlearn: 0.5363346\ttotal: 74.9ms\tremaining: 9.99ms\n",
      "30:\tlearn: 0.5344368\ttotal: 75.8ms\tremaining: 7.34ms\n",
      "31:\tlearn: 0.5338012\ttotal: 76.8ms\tremaining: 4.8ms\n",
      "32:\tlearn: 0.5330665\ttotal: 77.8ms\tremaining: 2.36ms\n",
      "33:\tlearn: 0.5326280\ttotal: 80ms\tremaining: 0us\n"
     ]
    }
   ],
   "source": [
    "# create the models\n",
    "models = []\n",
    "\n",
    "models.append({\"name\": \"Decision Tree\", \"model\": create_decision_tree_model()})\n",
    "models.append({\"name\": \"Random Forest\", \"model\": create_random_forest_model()})\n",
    "models.append({\"name\": \"XGBoost\", \"model\": create_xgboost_model()})\n",
    "models.append({\"name\": \"AdaBoost\", \"model\": create_adaboost_model()})\n",
    "models.append({\"name\": \"CatBoost\", \"model\": create_catboost_model()})"
   ]
  },
  {
   "cell_type": "code",
   "execution_count": 20,
   "id": "15b14cd1-b1a9-4079-88cb-0d368a96e8cd",
   "metadata": {},
   "outputs": [
    {
     "data": {
      "text/html": [
       "<div>\n",
       "<style scoped>\n",
       "    .dataframe tbody tr th:only-of-type {\n",
       "        vertical-align: middle;\n",
       "    }\n",
       "\n",
       "    .dataframe tbody tr th {\n",
       "        vertical-align: top;\n",
       "    }\n",
       "\n",
       "    .dataframe thead th {\n",
       "        text-align: right;\n",
       "    }\n",
       "</style>\n",
       "<table border=\"1\" class=\"dataframe\">\n",
       "  <thead>\n",
       "    <tr style=\"text-align: right;\">\n",
       "      <th></th>\n",
       "      <th>name</th>\n",
       "      <th>accuracy</th>\n",
       "      <th>precision</th>\n",
       "      <th>recall</th>\n",
       "      <th>f1</th>\n",
       "    </tr>\n",
       "  </thead>\n",
       "  <tbody>\n",
       "    <tr>\n",
       "      <th>0</th>\n",
       "      <td>Decision Tree</td>\n",
       "      <td>0.72</td>\n",
       "      <td>0.72</td>\n",
       "      <td>0.72</td>\n",
       "      <td>0.72</td>\n",
       "    </tr>\n",
       "    <tr>\n",
       "      <th>1</th>\n",
       "      <td>Random Forest</td>\n",
       "      <td>0.74</td>\n",
       "      <td>0.74</td>\n",
       "      <td>0.74</td>\n",
       "      <td>0.74</td>\n",
       "    </tr>\n",
       "    <tr>\n",
       "      <th>2</th>\n",
       "      <td>XGBoost</td>\n",
       "      <td>0.74</td>\n",
       "      <td>0.73</td>\n",
       "      <td>0.73</td>\n",
       "      <td>0.73</td>\n",
       "    </tr>\n",
       "    <tr>\n",
       "      <th>3</th>\n",
       "      <td>AdaBoost</td>\n",
       "      <td>0.72</td>\n",
       "      <td>0.72</td>\n",
       "      <td>0.72</td>\n",
       "      <td>0.72</td>\n",
       "    </tr>\n",
       "    <tr>\n",
       "      <th>4</th>\n",
       "      <td>CatBoost</td>\n",
       "      <td>0.74</td>\n",
       "      <td>0.73</td>\n",
       "      <td>0.73</td>\n",
       "      <td>0.73</td>\n",
       "    </tr>\n",
       "  </tbody>\n",
       "</table>\n",
       "</div>"
      ],
      "text/plain": [
       "            name accuracy precision recall    f1\n",
       "0  Decision Tree     0.72      0.72   0.72  0.72\n",
       "1  Random Forest     0.74      0.74   0.74  0.74\n",
       "2        XGBoost     0.74      0.73   0.73  0.73\n",
       "3       AdaBoost     0.72      0.72   0.72  0.72\n",
       "4       CatBoost     0.74      0.73   0.73  0.73"
      ]
     },
     "execution_count": 20,
     "metadata": {},
     "output_type": "execute_result"
    }
   ],
   "source": [
    "# evaluate all the models\n",
    "for info in models:\n",
    "    accuracy, precision, recall, f1 = evaluate_model_on_test_dataset(info[\"model\"])\n",
    "    info[\"accuracy\"] = accuracy\n",
    "    info[\"precision\"] = precision\n",
    "    info[\"recall\"] = recall\n",
    "    info[\"f1\"] = f1\n",
    "\n",
    "# print the evaluation report\n",
    "df_evaluation_report_test = pd.DataFrame(models, columns=[\"name\", \"accuracy\", \"precision\", \"recall\", \"f1\"])\n",
    "df_evaluation_report_test"
   ]
  },
  {
   "cell_type": "code",
   "execution_count": null,
   "id": "e77eb4ff-c64b-4dab-9362-1382527d3074",
   "metadata": {},
   "outputs": [],
   "source": []
  }
 ],
 "metadata": {
  "kernelspec": {
   "display_name": "Python (ml_env)",
   "language": "python",
   "name": "ml_env"
  },
  "language_info": {
   "codemirror_mode": {
    "name": "ipython",
    "version": 3
   },
   "file_extension": ".py",
   "mimetype": "text/x-python",
   "name": "python",
   "nbconvert_exporter": "python",
   "pygments_lexer": "ipython3",
   "version": "3.12.3"
  }
 },
 "nbformat": 4,
 "nbformat_minor": 5
}
