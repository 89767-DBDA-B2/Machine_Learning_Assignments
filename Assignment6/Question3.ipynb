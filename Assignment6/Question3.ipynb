{
 "cells": [
  {
   "cell_type": "markdown",
   "id": "911aeb23-d3d9-4fc6-bef8-e38b201e0337",
   "metadata": {},
   "source": [
    "Perform K-Means,Hierarchical and DBSCAN Clustering for the Universities.csv data and identify the number of clusters formed and Visualise the results."
   ]
  },
  {
   "cell_type": "markdown",
   "id": "67e3f37f-eb4f-4bd0-a82a-db9cde4c0870",
   "metadata": {},
   "source": [
    "# Question 3"
   ]
  },
  {
   "cell_type": "markdown",
   "id": "64e9289f-058c-4cfc-a505-0860169934e3",
   "metadata": {},
   "source": [
    "### Prerequisites "
   ]
  },
  {
   "cell_type": "code",
   "execution_count": 2,
   "id": "1f414b09-5580-4df3-b682-07c6862c613b",
   "metadata": {},
   "outputs": [],
   "source": [
    "import warnings \n",
    "warnings.filterwarnings(action=\"ignore\")"
   ]
  },
  {
   "cell_type": "markdown",
   "id": "5db3ef0d-3fa2-4aaf-954a-92174179d858",
   "metadata": {},
   "source": [
    "### import packages "
   ]
  },
  {
   "cell_type": "code",
   "execution_count": 3,
   "id": "3a5d5697-aaf4-47ad-bae3-04338b6c613d",
   "metadata": {},
   "outputs": [],
   "source": [
    "import numpy as np \n",
    "import pandas as pd \n",
    "import matplotlib.pyplot as plt \n",
    "import seaborn as sns "
   ]
  },
  {
   "cell_type": "markdown",
   "id": "f8e2cdf7-38ee-4dba-ade0-7e4441c9ce50",
   "metadata": {},
   "source": [
    "### Load the data "
   ]
  },
  {
   "cell_type": "code",
   "execution_count": 4,
   "id": "91994634-9930-4b11-81eb-1a80ce118164",
   "metadata": {},
   "outputs": [
    {
     "data": {
      "text/html": [
       "<div>\n",
       "<style scoped>\n",
       "    .dataframe tbody tr th:only-of-type {\n",
       "        vertical-align: middle;\n",
       "    }\n",
       "\n",
       "    .dataframe tbody tr th {\n",
       "        vertical-align: top;\n",
       "    }\n",
       "\n",
       "    .dataframe thead th {\n",
       "        text-align: right;\n",
       "    }\n",
       "</style>\n",
       "<table border=\"1\" class=\"dataframe\">\n",
       "  <thead>\n",
       "    <tr style=\"text-align: right;\">\n",
       "      <th></th>\n",
       "      <th>Univ</th>\n",
       "      <th>SAT</th>\n",
       "      <th>Top10</th>\n",
       "      <th>Accept</th>\n",
       "      <th>SFRatio</th>\n",
       "      <th>Expenses</th>\n",
       "      <th>GradRate</th>\n",
       "    </tr>\n",
       "  </thead>\n",
       "  <tbody>\n",
       "    <tr>\n",
       "      <th>0</th>\n",
       "      <td>Brown</td>\n",
       "      <td>1310</td>\n",
       "      <td>89</td>\n",
       "      <td>22</td>\n",
       "      <td>13</td>\n",
       "      <td>22704</td>\n",
       "      <td>94</td>\n",
       "    </tr>\n",
       "    <tr>\n",
       "      <th>1</th>\n",
       "      <td>CalTech</td>\n",
       "      <td>1415</td>\n",
       "      <td>100</td>\n",
       "      <td>25</td>\n",
       "      <td>6</td>\n",
       "      <td>63575</td>\n",
       "      <td>81</td>\n",
       "    </tr>\n",
       "    <tr>\n",
       "      <th>2</th>\n",
       "      <td>CMU</td>\n",
       "      <td>1260</td>\n",
       "      <td>62</td>\n",
       "      <td>59</td>\n",
       "      <td>9</td>\n",
       "      <td>25026</td>\n",
       "      <td>72</td>\n",
       "    </tr>\n",
       "    <tr>\n",
       "      <th>3</th>\n",
       "      <td>Columbia</td>\n",
       "      <td>1310</td>\n",
       "      <td>76</td>\n",
       "      <td>24</td>\n",
       "      <td>12</td>\n",
       "      <td>31510</td>\n",
       "      <td>88</td>\n",
       "    </tr>\n",
       "    <tr>\n",
       "      <th>4</th>\n",
       "      <td>Cornell</td>\n",
       "      <td>1280</td>\n",
       "      <td>83</td>\n",
       "      <td>33</td>\n",
       "      <td>13</td>\n",
       "      <td>21864</td>\n",
       "      <td>90</td>\n",
       "    </tr>\n",
       "  </tbody>\n",
       "</table>\n",
       "</div>"
      ],
      "text/plain": [
       "       Univ   SAT  Top10  Accept  SFRatio  Expenses  GradRate\n",
       "0     Brown  1310     89      22       13     22704        94\n",
       "1   CalTech  1415    100      25        6     63575        81\n",
       "2       CMU  1260     62      59        9     25026        72\n",
       "3  Columbia  1310     76      24       12     31510        88\n",
       "4   Cornell  1280     83      33       13     21864        90"
      ]
     },
     "execution_count": 4,
     "metadata": {},
     "output_type": "execute_result"
    }
   ],
   "source": [
    "df = pd.read_csv(\"./Universities.csv\")\n",
    "df.head(5)"
   ]
  },
  {
   "cell_type": "markdown",
   "id": "99217b7c-b56b-4dda-95b7-1c8af4d1b17d",
   "metadata": {},
   "source": [
    "### Preprocessing "
   ]
  },
  {
   "cell_type": "code",
   "execution_count": 5,
   "id": "4d09ffde-c644-49c6-8a11-86b06f943acb",
   "metadata": {},
   "outputs": [],
   "source": [
    "df.drop(['Univ', 'SAT', 'Top10', 'Accept', 'SFRatio'], axis=1, inplace=True)"
   ]
  },
  {
   "cell_type": "code",
   "execution_count": 6,
   "id": "a2e81c1d-5c3a-4270-ac2c-36cdddb27afd",
   "metadata": {},
   "outputs": [
    {
     "data": {
      "text/html": [
       "<div>\n",
       "<style scoped>\n",
       "    .dataframe tbody tr th:only-of-type {\n",
       "        vertical-align: middle;\n",
       "    }\n",
       "\n",
       "    .dataframe tbody tr th {\n",
       "        vertical-align: top;\n",
       "    }\n",
       "\n",
       "    .dataframe thead th {\n",
       "        text-align: right;\n",
       "    }\n",
       "</style>\n",
       "<table border=\"1\" class=\"dataframe\">\n",
       "  <thead>\n",
       "    <tr style=\"text-align: right;\">\n",
       "      <th></th>\n",
       "      <th>Expenses</th>\n",
       "      <th>GradRate</th>\n",
       "    </tr>\n",
       "  </thead>\n",
       "  <tbody>\n",
       "    <tr>\n",
       "      <th>0</th>\n",
       "      <td>22704</td>\n",
       "      <td>94</td>\n",
       "    </tr>\n",
       "    <tr>\n",
       "      <th>1</th>\n",
       "      <td>63575</td>\n",
       "      <td>81</td>\n",
       "    </tr>\n",
       "    <tr>\n",
       "      <th>2</th>\n",
       "      <td>25026</td>\n",
       "      <td>72</td>\n",
       "    </tr>\n",
       "    <tr>\n",
       "      <th>3</th>\n",
       "      <td>31510</td>\n",
       "      <td>88</td>\n",
       "    </tr>\n",
       "    <tr>\n",
       "      <th>4</th>\n",
       "      <td>21864</td>\n",
       "      <td>90</td>\n",
       "    </tr>\n",
       "  </tbody>\n",
       "</table>\n",
       "</div>"
      ],
      "text/plain": [
       "   Expenses  GradRate\n",
       "0     22704        94\n",
       "1     63575        81\n",
       "2     25026        72\n",
       "3     31510        88\n",
       "4     21864        90"
      ]
     },
     "execution_count": 6,
     "metadata": {},
     "output_type": "execute_result"
    }
   ],
   "source": [
    "df.head(5)"
   ]
  },
  {
   "cell_type": "code",
   "execution_count": 7,
   "id": "300d92fa-cb12-4c17-aa17-7949d520dc5e",
   "metadata": {},
   "outputs": [],
   "source": [
    "from sklearn.cluster import KMeans \n",
    "\n",
    "# crate a object of the class. \n",
    "\n",
    "kmeans = KMeans(n_clusters=5) \n",
    "\n",
    "# fit the data and find the clusters \n",
    "kmeans = kmeans.fit(df)\n"
   ]
  },
  {
   "cell_type": "markdown",
   "id": "baf2a8a7-e7f0-447f-8a98-53e825a089b0",
   "metadata": {},
   "source": [
    "### Study the clusters "
   ]
  },
  {
   "cell_type": "code",
   "execution_count": 8,
   "id": "9ca621ac-1bec-4940-a33c-da1662781d4e",
   "metadata": {},
   "outputs": [
    {
     "data": {
      "text/plain": [
       "array([4, 2, 4, 1, 4, 1, 1, 4, 3, 2, 1, 1, 0, 0, 1, 0, 3, 0, 0, 3, 0, 1,\n",
       "       0, 0, 3], dtype=int32)"
      ]
     },
     "execution_count": 8,
     "metadata": {},
     "output_type": "execute_result"
    }
   ],
   "source": [
    "kmeans.labels_"
   ]
  },
  {
   "cell_type": "code",
   "execution_count": 9,
   "id": "965dcbe0-7aed-4cd2-b03e-5a03ef85f6af",
   "metadata": {},
   "outputs": [
    {
     "data": {
      "text/plain": [
       "array([[12361.625     ,    79.5       ],\n",
       "       [30850.28571429,    91.85714286],\n",
       "       [61133.        ,    84.        ],\n",
       "       [39467.25      ,    93.25      ],\n",
       "       [22430.        ,    87.        ]])"
      ]
     },
     "execution_count": 9,
     "metadata": {},
     "output_type": "execute_result"
    }
   ],
   "source": [
    "kmeans.cluster_centers_"
   ]
  },
  {
   "cell_type": "markdown",
   "id": "56841f4a-d4fb-4f14-830a-9870f43c6faa",
   "metadata": {},
   "source": [
    "### Visualization "
   ]
  },
  {
   "cell_type": "code",
   "execution_count": 10,
   "id": "01058efb-32bd-4775-a912-d361277f900f",
   "metadata": {},
   "outputs": [
    {
     "data": {
      "text/plain": [
       "<matplotlib.collections.PathCollection at 0x7a2908d09310>"
      ]
     },
     "execution_count": 10,
     "metadata": {},
     "output_type": "execute_result"
    },
    {
     "data": {
      "image/png": "[encoded data removed]",
      "text/plain": [
       "<Figure size 640x480 with 1 Axes>"
      ]
     },
     "metadata": {},
     "output_type": "display_data"
    }
   ],
   "source": [
    "plt.scatter(df['Expenses'][kmeans.labels_==0], df['GradRate'][kmeans.labels_==0], color='red')\n",
    "plt.scatter(df['Expenses'][kmeans.labels_==1], df['GradRate'][kmeans.labels_==1], color='green')\n",
    "plt.scatter(df['Expenses'][kmeans.labels_==2], df['GradRate'][kmeans.labels_==2], color='yellow')\n",
    "plt.scatter(df['Expenses'][kmeans.labels_==3], df['GradRate'][kmeans.labels_==3], color='purple')\n",
    "plt.scatter(df['Expenses'][kmeans.labels_==4], df['GradRate'][kmeans.labels_==4], color='magenta')\n"
   ]
  },
  {
   "cell_type": "code",
   "execution_count": 11,
   "id": "c1564568-eb48-40e0-b193-c4fc9d64f6c1",
   "metadata": {},
   "outputs": [],
   "source": [
    "from sklearn.cluster import AgglomerativeClustering\n",
    "\n",
    "# create an object of AgglomerativeClustering\n",
    "cluster_info = AgglomerativeClustering(n_clusters=5)\n",
    "\n",
    "# build the clusters\n",
    "cluster_info = cluster_info.fit(df)"
   ]
  },
  {
   "cell_type": "code",
   "execution_count": 12,
   "id": "e0fa9344-c90f-408d-b0f3-697a6e9d84c2",
   "metadata": {},
   "outputs": [
    {
     "data": {
      "text/plain": [
       "5"
      ]
     },
     "execution_count": 12,
     "metadata": {},
     "output_type": "execute_result"
    }
   ],
   "source": [
    "cluster_info.n_clusters"
   ]
  },
  {
   "cell_type": "code",
   "execution_count": 13,
   "id": "d29412f1-b620-4a2b-8460-98edb1649743",
   "metadata": {},
   "outputs": [
    {
     "data": {
      "text/plain": [
       "array([4, 2, 1, 1, 4, 1, 1, 4, 3, 2, 3, 1, 0, 0, 1, 0, 3, 0, 0, 3, 0, 1,\n",
       "       0, 0, 3])"
      ]
     },
     "execution_count": 13,
     "metadata": {},
     "output_type": "execute_result"
    }
   ],
   "source": [
    "cluster_info.labels_"
   ]
  },
  {
   "cell_type": "code",
   "execution_count": 14,
   "id": "4101e440-a9e7-4874-b10b-e4d00153d20b",
   "metadata": {},
   "outputs": [
    {
     "data": {
      "text/plain": [
       "<matplotlib.collections.PathCollection at 0x7a2908df1070>"
      ]
     },
     "execution_count": 14,
     "metadata": {},
     "output_type": "execute_result"
    },
    {
     "data": {
      "image/png": "[encoded data removed]",
      "text/plain": [
       "<Figure size 640x480 with 1 Axes>"
      ]
     },
     "metadata": {},
     "output_type": "display_data"
    }
   ],
   "source": [
    "plt.scatter(df['Expenses'][cluster_info.labels_==0], df['GradRate'][cluster_info.labels_==0], color='red')\n",
    "plt.scatter(df['Expenses'][cluster_info.labels_==1], df['GradRate'][cluster_info.labels_==1], color='green')\n",
    "plt.scatter(df['Expenses'][cluster_info.labels_==2], df['GradRate'][cluster_info.labels_==2], color='yellow')\n",
    "plt.scatter(df['Expenses'][cluster_info.labels_==3], df['GradRate'][cluster_info.labels_==3], color='purple')\n",
    "plt.scatter(df['Expenses'][cluster_info.labels_==4], df['GradRate'][cluster_info.labels_==4], color='magenta')"
   ]
  },
  {
   "cell_type": "code",
   "execution_count": 15,
   "id": "41739a99-b3fb-4316-8ef7-4b980f93574c",
   "metadata": {},
   "outputs": [
    {
     "data": {
      "image/png": "[encoded data removed]",
      "text/plain": [
       "<Figure size 640x480 with 1 Axes>"
      ]
     },
     "metadata": {},
     "output_type": "display_data"
    }
   ],
   "source": [
    "from scipy.cluster import hierarchy\n",
    "\n",
    "# get the linkage information\n",
    "linkage = hierarchy.linkage(df, 'single')\n",
    "\n",
    "# create a dendrogram using linkage data\n",
    "dendrogram = hierarchy.dendrogram(linkage)"
   ]
  },
  {
   "cell_type": "code",
   "execution_count": 18,
   "id": "53d96bbf-bcec-4cda-8312-e8e5c3be76be",
   "metadata": {},
   "outputs": [
    {
     "data": {
      "text/plain": [
       "<matplotlib.collections.PathCollection at 0x7a29089ed4c0>"
      ]
     },
     "execution_count": 18,
     "metadata": {},
     "output_type": "execute_result"
    },
    {
     "data": {
      "image/png": "[encoded data removed]",
      "text/plain": [
       "<Figure size 640x480 with 1 Axes>"
      ]
     },
     "metadata": {},
     "output_type": "display_data"
    }
   ],
   "source": [
    "plt.scatter(df['Expenses'][cluster_info.labels_==0], df['GradRate'][cluster_info.labels_==0], color='red')\n",
    "plt.scatter(df['Expenses'][cluster_info.labels_==1], df['GradRate'][cluster_info.labels_==1], color='green')\n",
    "plt.scatter(df['Expenses'][cluster_info.labels_==2], df['GradRate'][cluster_info.labels_==2], color='yellow')\n",
    "plt.scatter(df['Expenses'][cluster_info.labels_==3], df['GradRate'][cluster_info.labels_==3], color='purple')\n",
    "plt.scatter(df['Expenses'][cluster_info.labels_==4], df['GradRate'][cluster_info.labels_==4], color='magenta')"
   ]
  },
  {
   "cell_type": "code",
   "execution_count": 19,
   "id": "d21f0a45-2110-4cba-9bd0-0544770d21b5",
   "metadata": {},
   "outputs": [],
   "source": [
    "from sklearn.cluster import DBSCAN\n",
    "\n",
    "# create an object of DBScan\n",
    "dbscan = DBSCAN(eps=0.15, min_samples=5)\n",
    "\n",
    "# fit the data\n",
    "dbscan = dbscan.fit(df)"
   ]
  },
  {
   "cell_type": "code",
   "execution_count": 20,
   "id": "249540cd-7f67-49ef-9986-396c15adfa8a",
   "metadata": {},
   "outputs": [
    {
     "data": {
      "text/plain": [
       "<matplotlib.collections.PathCollection at 0x7a2908868a70>"
      ]
     },
     "execution_count": 20,
     "metadata": {},
     "output_type": "execute_result"
    },
    {
     "data": {
      "image/png": "[encoded data removed]",
      "text/plain": [
       "<Figure size 640x480 with 1 Axes>"
      ]
     },
     "metadata": {},
     "output_type": "display_data"
    }
   ],
   "source": [
    "plt.scatter(df['Expenses'][dbscan.labels_==0], df['GradRate'][dbscan.labels_==0], color='red')\n",
    "plt.scatter(df['Expenses'][dbscan.labels_==1], df['GradRate'][dbscan.labels_==1], color='green')\n",
    "plt.scatter(df['Expenses'][dbscan.labels_==2], df['GradRate'][dbscan.labels_==2], color='yellow')\n",
    "plt.scatter(df['Expenses'][dbscan.labels_==3], df['GradRate'][dbscan.labels_==3], color='purple')\n",
    "plt.scatter(df['Expenses'][dbscan.labels_==4], df['GradRate'][dbscan.labels_==4], color='magenta')"
   ]
  },
  {
   "cell_type": "code",
   "execution_count": null,
   "id": "a8090561-2c7a-4f8e-bb7e-ac20724f2424",
   "metadata": {},
   "outputs": [],
   "source": []
  }
 ],
 "metadata": {
  "kernelspec": {
   "display_name": "Python (ml_env)",
   "language": "python",
   "name": "ml_env"
  },
  "language_info": {
   "codemirror_mode": {
    "name": "ipython",
    "version": 3
   },
   "file_extension": ".py",
   "mimetype": "text/x-python",
   "name": "python",
   "nbconvert_exporter": "python",
   "pygments_lexer": "ipython3",
   "version": "3.12.3"
  }
 },
 "nbformat": 4,
 "nbformat_minor": 5
}
