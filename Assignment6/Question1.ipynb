{
 "cells": [
  {
   "cell_type": "markdown",
   "id": "90395319-cb01-4aa2-b888-f658da734acb",
   "metadata": {},
   "source": [
    "Perform K-Means,Hierarchical and DBSCAN Clustering for the airlines data to obtain optimum number of clusters. \n",
    "Also Visualise the results.\n",
    "\n",
    "Data Description:\n",
    " \n",
    "The file EastWest.csv data contains information on passengers who belong to an airline’s frequent flier program. For each passenger the data include information on their mileage history and on different ways they accrued or spent miles in the last year. The goal is to try to identify clusters of passengers that have similar characteristics for the purpose of targeting different segments for different types of mileage offers."
   ]
  },
  {
   "cell_type": "code",
   "execution_count": 2,
   "id": "a9164d4d-c41c-454b-b327-b60de7f72e25",
   "metadata": {},
   "outputs": [],
   "source": [
    "import warnings\n",
    "warnings.filterwarnings(action=\"ignore\")"
   ]
  },
  {
   "cell_type": "code",
   "execution_count": 3,
   "id": "96c7124a-f288-493f-9048-33c4aa50b9e0",
   "metadata": {},
   "outputs": [],
   "source": [
    "import numpy as np \n",
    "import pandas as pd \n",
    "import matplotlib.pyplot as plt \n",
    "import seaborn as sns "
   ]
  },
  {
   "cell_type": "code",
   "execution_count": 4,
   "id": "5c94c694-077d-4497-ac41-fa1f2509c640",
   "metadata": {},
   "outputs": [
    {
     "data": {
      "text/html": [
       "<div>\n",
       "<style scoped>\n",
       "    .dataframe tbody tr th:only-of-type {\n",
       "        vertical-align: middle;\n",
       "    }\n",
       "\n",
       "    .dataframe tbody tr th {\n",
       "        vertical-align: top;\n",
       "    }\n",
       "\n",
       "    .dataframe thead th {\n",
       "        text-align: right;\n",
       "    }\n",
       "</style>\n",
       "<table border=\"1\" class=\"dataframe\">\n",
       "  <thead>\n",
       "    <tr style=\"text-align: right;\">\n",
       "      <th></th>\n",
       "      <th>ID#</th>\n",
       "      <th>Balance</th>\n",
       "      <th>Qual_miles</th>\n",
       "      <th>cc1_miles</th>\n",
       "      <th>cc2_miles</th>\n",
       "      <th>cc3_miles</th>\n",
       "      <th>Bonus_miles</th>\n",
       "      <th>Bonus_trans</th>\n",
       "      <th>Flight_miles_12mo</th>\n",
       "      <th>Flight_trans_12</th>\n",
       "      <th>Days_since_enroll</th>\n",
       "      <th>Award?</th>\n",
       "    </tr>\n",
       "  </thead>\n",
       "  <tbody>\n",
       "    <tr>\n",
       "      <th>0</th>\n",
       "      <td>1</td>\n",
       "      <td>28143</td>\n",
       "      <td>0</td>\n",
       "      <td>1</td>\n",
       "      <td>1</td>\n",
       "      <td>1</td>\n",
       "      <td>174</td>\n",
       "      <td>1</td>\n",
       "      <td>0</td>\n",
       "      <td>0</td>\n",
       "      <td>7000</td>\n",
       "      <td>0</td>\n",
       "    </tr>\n",
       "    <tr>\n",
       "      <th>1</th>\n",
       "      <td>2</td>\n",
       "      <td>19244</td>\n",
       "      <td>0</td>\n",
       "      <td>1</td>\n",
       "      <td>1</td>\n",
       "      <td>1</td>\n",
       "      <td>215</td>\n",
       "      <td>2</td>\n",
       "      <td>0</td>\n",
       "      <td>0</td>\n",
       "      <td>6968</td>\n",
       "      <td>0</td>\n",
       "    </tr>\n",
       "    <tr>\n",
       "      <th>2</th>\n",
       "      <td>3</td>\n",
       "      <td>41354</td>\n",
       "      <td>0</td>\n",
       "      <td>1</td>\n",
       "      <td>1</td>\n",
       "      <td>1</td>\n",
       "      <td>4123</td>\n",
       "      <td>4</td>\n",
       "      <td>0</td>\n",
       "      <td>0</td>\n",
       "      <td>7034</td>\n",
       "      <td>0</td>\n",
       "    </tr>\n",
       "    <tr>\n",
       "      <th>3</th>\n",
       "      <td>4</td>\n",
       "      <td>14776</td>\n",
       "      <td>0</td>\n",
       "      <td>1</td>\n",
       "      <td>1</td>\n",
       "      <td>1</td>\n",
       "      <td>500</td>\n",
       "      <td>1</td>\n",
       "      <td>0</td>\n",
       "      <td>0</td>\n",
       "      <td>6952</td>\n",
       "      <td>0</td>\n",
       "    </tr>\n",
       "    <tr>\n",
       "      <th>4</th>\n",
       "      <td>5</td>\n",
       "      <td>97752</td>\n",
       "      <td>0</td>\n",
       "      <td>4</td>\n",
       "      <td>1</td>\n",
       "      <td>1</td>\n",
       "      <td>43300</td>\n",
       "      <td>26</td>\n",
       "      <td>2077</td>\n",
       "      <td>4</td>\n",
       "      <td>6935</td>\n",
       "      <td>1</td>\n",
       "    </tr>\n",
       "  </tbody>\n",
       "</table>\n",
       "</div>"
      ],
      "text/plain": [
       "   ID#  Balance  Qual_miles  cc1_miles  cc2_miles  cc3_miles  Bonus_miles  \\\n",
       "0    1    28143           0          1          1          1          174   \n",
       "1    2    19244           0          1          1          1          215   \n",
       "2    3    41354           0          1          1          1         4123   \n",
       "3    4    14776           0          1          1          1          500   \n",
       "4    5    97752           0          4          1          1        43300   \n",
       "\n",
       "   Bonus_trans  Flight_miles_12mo  Flight_trans_12  Days_since_enroll  Award?  \n",
       "0            1                  0                0               7000       0  \n",
       "1            2                  0                0               6968       0  \n",
       "2            4                  0                0               7034       0  \n",
       "3            1                  0                0               6952       0  \n",
       "4           26               2077                4               6935       1  "
      ]
     },
     "execution_count": 4,
     "metadata": {},
     "output_type": "execute_result"
    }
   ],
   "source": [
    "df = pd.read_csv(\"./EastWest .csv\")\n",
    "df.head(5)"
   ]
  },
  {
   "cell_type": "code",
   "execution_count": 5,
   "id": "98eb7b0e-49b3-4360-a720-fd26ca1d35e3",
   "metadata": {},
   "outputs": [],
   "source": [
    "## Data Preprocessing"
   ]
  },
  {
   "cell_type": "code",
   "execution_count": 6,
   "id": "6e92a446-760a-4f4e-ba03-2fe7ae1a573f",
   "metadata": {},
   "outputs": [
    {
     "name": "stdout",
     "output_type": "stream",
     "text": [
      "<class 'pandas.core.frame.DataFrame'>\n",
      "RangeIndex: 3999 entries, 0 to 3998\n",
      "Data columns (total 12 columns):\n",
      " #   Column             Non-Null Count  Dtype\n",
      "---  ------             --------------  -----\n",
      " 0   ID#                3999 non-null   int64\n",
      " 1   Balance            3999 non-null   int64\n",
      " 2   Qual_miles         3999 non-null   int64\n",
      " 3   cc1_miles          3999 non-null   int64\n",
      " 4   cc2_miles          3999 non-null   int64\n",
      " 5   cc3_miles          3999 non-null   int64\n",
      " 6   Bonus_miles        3999 non-null   int64\n",
      " 7   Bonus_trans        3999 non-null   int64\n",
      " 8   Flight_miles_12mo  3999 non-null   int64\n",
      " 9   Flight_trans_12    3999 non-null   int64\n",
      " 10  Days_since_enroll  3999 non-null   int64\n",
      " 11  Award?             3999 non-null   int64\n",
      "dtypes: int64(12)\n",
      "memory usage: 375.0 KB\n"
     ]
    }
   ],
   "source": [
    "df.info()"
   ]
  },
  {
   "cell_type": "code",
   "execution_count": 7,
   "id": "5178bcc4-8b52-4f47-a5eb-4446f721919e",
   "metadata": {},
   "outputs": [
    {
     "data": {
      "text/plain": [
       "ID#                  0\n",
       "Balance              0\n",
       "Qual_miles           0\n",
       "cc1_miles            0\n",
       "cc2_miles            0\n",
       "cc3_miles            0\n",
       "Bonus_miles          0\n",
       "Bonus_trans          0\n",
       "Flight_miles_12mo    0\n",
       "Flight_trans_12      0\n",
       "Days_since_enroll    0\n",
       "Award?               0\n",
       "dtype: int64"
      ]
     },
     "execution_count": 7,
     "metadata": {},
     "output_type": "execute_result"
    }
   ],
   "source": [
    "df.isna().sum()"
   ]
  },
  {
   "cell_type": "code",
   "execution_count": 9,
   "id": "308048e7-c204-4a41-938f-f0e033842441",
   "metadata": {},
   "outputs": [],
   "source": [
    "# as ID doesn't make any impact on data remove it.\n",
    "df.drop(['ID#'], axis=1, inplace =True)"
   ]
  },
  {
   "cell_type": "code",
   "execution_count": 10,
   "id": "d278ef28-35b9-465a-a1ec-c1e6f9a6487a",
   "metadata": {},
   "outputs": [],
   "source": [
    "# Combine total cc1_miles, cc2_miles, cc3_miles into total_cc_miles \n",
    "df['total_cc_miles'] = df['cc1_miles']+df['cc2_miles']+df['cc3_miles']"
   ]
  },
  {
   "cell_type": "code",
   "execution_count": 11,
   "id": "168d39f2-5871-492d-95e4-2e101282272b",
   "metadata": {},
   "outputs": [],
   "source": [
    "df.drop(['cc1_miles','cc2_miles', 'cc3_miles'], axis=1, inplace=True)"
   ]
  },
  {
   "cell_type": "code",
   "execution_count": 13,
   "id": "7b21e127-4505-42fc-a576-90bc46c49da3",
   "metadata": {},
   "outputs": [],
   "source": [
    "# Avoid division by zero\n",
    "df['avg_miles_per_flight'] = df['Flight_miles_12mo'] / df['Flight_trans_12'].replace(0, 1)\n",
    "df['bonus_ratio'] = df['Bonus_miles'] / df['Balance'].replace(0, 1)\n",
    "df['enrolled_years'] = df['Days_since_enroll'] / 365"
   ]
  },
  {
   "cell_type": "code",
   "execution_count": 16,
   "id": "b897aa7c-d94c-4526-8c2b-c1095580bc75",
   "metadata": {},
   "outputs": [],
   "source": [
    "df.drop(['Flight_miles_12mo', 'Flight_trans_12', 'Bonus_miles', 'Balance', 'Days_since_enroll'], axis=1, inplace=True)"
   ]
  },
  {
   "cell_type": "code",
   "execution_count": 17,
   "id": "de3c0dc3-b259-4966-8235-19086302c6f1",
   "metadata": {},
   "outputs": [
    {
     "name": "stdout",
     "output_type": "stream",
     "text": [
      "<class 'pandas.core.frame.DataFrame'>\n",
      "RangeIndex: 3999 entries, 0 to 3998\n",
      "Data columns (total 7 columns):\n",
      " #   Column                Non-Null Count  Dtype  \n",
      "---  ------                --------------  -----  \n",
      " 0   Qual_miles            3999 non-null   int64  \n",
      " 1   Bonus_trans           3999 non-null   int64  \n",
      " 2   Award?                3999 non-null   int64  \n",
      " 3   total_cc_miles        3999 non-null   int64  \n",
      " 4   avg_miles_per_flight  3999 non-null   float64\n",
      " 5   bonus_ratio           3999 non-null   float64\n",
      " 6   enrolled_years        3999 non-null   float64\n",
      "dtypes: float64(3), int64(4)\n",
      "memory usage: 218.8 KB\n"
     ]
    }
   ],
   "source": [
    "df.info()"
   ]
  },
  {
   "cell_type": "markdown",
   "id": "6150d94f-f837-4e9e-bcd2-d91323b8f561",
   "metadata": {},
   "source": [
    "### Create the cluster "
   ]
  },
  {
   "cell_type": "code",
   "execution_count": 19,
   "id": "fa7b16a2-4c3d-4bb2-bcf9-9dd3b493e33f",
   "metadata": {},
   "outputs": [],
   "source": [
    "from sklearn.cluster import KMeans\n",
    "\n",
    "# set the number of clusters\n",
    "k = 5\n",
    "\n",
    "# create a kmeans class object\n",
    "kmeans = KMeans(n_clusters=k)\n",
    "\n",
    "# fit the data to create the cluster\n",
    "clusters_info = kmeans.fit(df)"
   ]
  },
  {
   "cell_type": "markdown",
   "id": "2306645a-77c2-4a25-9f2c-d6f14ecb6a4f",
   "metadata": {},
   "source": [
    "### Explore Cluster "
   ]
  },
  {
   "cell_type": "code",
   "execution_count": 21,
   "id": "08b1cf17-52ea-4e60-9b23-1f331cd56fe0",
   "metadata": {},
   "outputs": [
    {
     "data": {
      "text/plain": [
       "array([0, 0, 0, ..., 0, 3, 0], shape=(3999,), dtype=int32)"
      ]
     },
     "execution_count": 21,
     "metadata": {},
     "output_type": "execute_result"
    }
   ],
   "source": [
    "clusters_info.labels_"
   ]
  },
  {
   "cell_type": "code",
   "execution_count": 27,
   "id": "78ce67be-71a5-4adb-934e-07081d2a3f2c",
   "metadata": {},
   "outputs": [
    {
     "data": {
      "text/plain": [
       "0    3086\n",
       "3     762\n",
       "2     112\n",
       "1      38\n",
       "4       1\n",
       "Name: count, dtype: int64"
      ]
     },
     "execution_count": 27,
     "metadata": {},
     "output_type": "execute_result"
    }
   ],
   "source": [
    "# Get cluster counts\n",
    "pd.Series(clusters_info.labels_).value_counts()"
   ]
  },
  {
   "cell_type": "code",
   "execution_count": 22,
   "id": "6e1c68c2-efc9-42ee-8b11-4e25c31c32c4",
   "metadata": {},
   "outputs": [
    {
     "data": {
      "text/plain": [
       "array([[1.05829553e+01, 1.04630590e+01, 3.08489955e-01, 4.00518471e+00,\n",
       "        1.92257696e+01, 4.87874563e-01, 1.10581344e+01],\n",
       "       [6.51042105e+03, 1.26315789e+01, 5.00000000e-01, 4.05263158e+00,\n",
       "        2.16189505e+02, 2.24707594e-01, 1.13301370e+01],\n",
       "       [2.37216071e+03, 1.53482143e+01, 6.87500000e-01, 4.17857143e+00,\n",
       "        2.37881616e+02, 3.58261799e-01, 1.19806018e+01],\n",
       "       [4.01272966e+01, 1.56246719e+01, 5.68241470e-01, 4.40419948e+00,\n",
       "        4.65373316e+02, 7.82330568e+00, 1.21019523e+01],\n",
       "       [0.00000000e+00, 2.00000000e+00, 0.00000000e+00, 3.00000000e+00,\n",
       "        9.57700000e+03, 1.38089954e-01, 4.15068493e+00]])"
      ]
     },
     "execution_count": 22,
     "metadata": {},
     "output_type": "execute_result"
    }
   ],
   "source": [
    "# Find cluster centroids\n",
    "clusters_info.cluster_centers_"
   ]
  },
  {
   "cell_type": "code",
   "execution_count": 23,
   "id": "f7082721-0f7a-41a7-a398-68ae29495af4",
   "metadata": {},
   "outputs": [
    {
     "data": {
      "text/plain": [
       "5"
      ]
     },
     "execution_count": 23,
     "metadata": {},
     "output_type": "execute_result"
    }
   ],
   "source": [
    "# find the number of clusters\n",
    "len(clusters_info.cluster_centers_)"
   ]
  },
  {
   "cell_type": "code",
   "execution_count": 24,
   "id": "97314976-3216-4160-b7f9-adf403023188",
   "metadata": {},
   "outputs": [
    {
     "data": {
      "text/plain": [
       "6"
      ]
     },
     "execution_count": 24,
     "metadata": {},
     "output_type": "execute_result"
    }
   ],
   "source": [
    "# find the number of iterations needed to find the final clusters\n",
    "clusters_info.n_iter_"
   ]
  },
  {
   "cell_type": "code",
   "execution_count": 30,
   "id": "ca8ee6b2-1238-434f-94af-04e3bdfe4c84",
   "metadata": {},
   "outputs": [
    {
     "data": {
      "image/png": "[encoded data removed]",
      "text/plain": [
       "<Figure size 640x480 with 1 Axes>"
      ]
     },
     "metadata": {},
     "output_type": "display_data"
    }
   ],
   "source": [
    "# Add cluster labels as a new column in the DataFrame\n",
    "df['Cluster'] = clusters_info.labels_\n",
    "\n",
    "# Now, you can plot\n",
    "plt.scatter(df['Qual_miles'][df['Cluster'] == 0], df['Award?'][df['Cluster'] == 0], color='red', label='Cluster 0')\n",
    "plt.scatter(df['Qual_miles'][df['Cluster'] == 1], df['Award?'][df['Cluster'] == 1], color='green', label='Cluster 1')\n",
    "plt.scatter(df['Qual_miles'][df['Cluster'] == 2], df['Award?'][df['Cluster'] == 2], color='blue', label='Cluster 2')\n",
    "plt.scatter(df['Qual_miles'][df['Cluster'] == 3], df['Award?'][df['Cluster'] == 3], color='yellow', label='Cluster 3')\n",
    "plt.scatter(df['Qual_miles'][df['Cluster'] == 4], df['Award?'][df['Cluster'] == 4], color='purple', label='Cluster 4')\n",
    "\n",
    "# Customize the plot\n",
    "plt.xlabel(\"Qual_miles\")\n",
    "plt.ylabel(\"Award?\")\n",
    "plt.title(\"KMeans Clustering Results\")\n",
    "plt.legend()\n",
    "plt.show()"
   ]
  },
  {
   "cell_type": "code",
   "execution_count": 31,
   "id": "f9d2ed06-b319-470e-adb2-b54ba8df0021",
   "metadata": {},
   "outputs": [],
   "source": [
    "from sklearn.cluster import AgglomerativeClustering\n",
    "\n",
    "# create an object of AgglomerativeClustering\n",
    "cluster_info = AgglomerativeClustering(n_clusters=5)\n",
    "\n",
    "# build the clusters\n",
    "cluster_info = cluster_info.fit(df)"
   ]
  },
  {
   "cell_type": "code",
   "execution_count": 32,
   "id": "4b9a9d0a-374b-4e52-9f3c-a50af0ed0f2c",
   "metadata": {},
   "outputs": [
    {
     "data": {
      "text/plain": [
       "5"
      ]
     },
     "execution_count": 32,
     "metadata": {},
     "output_type": "execute_result"
    }
   ],
   "source": [
    "cluster_info.n_clusters"
   ]
  },
  {
   "cell_type": "code",
   "execution_count": 33,
   "id": "b19fd81e-faf0-4180-8742-aed9a0f2806b",
   "metadata": {},
   "outputs": [
    {
     "data": {
      "text/plain": [
       "array([3, 3, 3, ..., 3, 0, 3], shape=(3999,))"
      ]
     },
     "execution_count": 33,
     "metadata": {},
     "output_type": "execute_result"
    }
   ],
   "source": [
    "cluster_info.labels_"
   ]
  },
  {
   "cell_type": "code",
   "execution_count": 37,
   "id": "58c1bd86-83d1-44e8-93a8-013773a0c264",
   "metadata": {},
   "outputs": [
    {
     "data": {
      "text/plain": [
       "0    3086\n",
       "3     762\n",
       "2     112\n",
       "1      38\n",
       "4       1\n",
       "Name: count, dtype: int64"
      ]
     },
     "execution_count": 37,
     "metadata": {},
     "output_type": "execute_result"
    }
   ],
   "source": [
    "pd.Series(clusters_info.labels_).value_counts()"
   ]
  },
  {
   "cell_type": "code",
   "execution_count": 38,
   "id": "80d796c2-7b19-40cf-b454-6ff50bb3968a",
   "metadata": {},
   "outputs": [
    {
     "data": {
      "text/plain": [
       "<matplotlib.legend.Legend at 0x7dbda0438650>"
      ]
     },
     "execution_count": 38,
     "metadata": {},
     "output_type": "execute_result"
    },
    {
     "data": {
      "image/png": "[encoded data removed]",
      "text/plain": [
       "<Figure size 640x480 with 1 Axes>"
      ]
     },
     "metadata": {},
     "output_type": "display_data"
    }
   ],
   "source": [
    "markers = ['o', '^', 'x', 's', '*']\n",
    "labels = [\n",
    "    \"HILS\", \"MIMS\", \"HIHS\", \"LIHS\", \"LILS\"\n",
    "]\n",
    "for cluster in range(5):\n",
    "    plt.scatter(\n",
    "        df['Qual_miles'][cluster_info.labels_ == cluster],\n",
    "        df['Award?'][cluster_info.labels_ == cluster],\n",
    "        marker=markers[cluster],\n",
    "        label=labels[cluster]\n",
    "    )\n",
    "plt.xlabel('Qual_miles')\n",
    "plt.ylabel('Award?')\n",
    "plt.title(\"Clusters\")\n",
    "plt.legend()"
   ]
  },
  {
   "cell_type": "code",
   "execution_count": 39,
   "id": "9dbe44e8-32d8-4fc1-9d0b-60b70466d8ba",
   "metadata": {},
   "outputs": [
    {
     "data": {
      "image/png": "[encoded data removed]",
      "text/plain": [
       "<Figure size 640x480 with 1 Axes>"
      ]
     },
     "metadata": {},
     "output_type": "display_data"
    }
   ],
   "source": [
    "from scipy.cluster import hierarchy\n",
    "\n",
    "# get the linkage information\n",
    "linkage = hierarchy.linkage(df, 'single')\n",
    "\n",
    "# create a dendrogram using linkage data\n",
    "dendrogram = hierarchy.dendrogram(linkage)"
   ]
  },
  {
   "cell_type": "code",
   "execution_count": 40,
   "id": "8e614617-8522-4614-89e0-854e48fe3e1d",
   "metadata": {},
   "outputs": [
    {
     "data": {
      "image/png": "[encoded data removed]",
      "text/plain": [
       "<Figure size 640x480 with 1 Axes>"
      ]
     },
     "metadata": {},
     "output_type": "display_data"
    }
   ],
   "source": [
    "from scipy.cluster import hierarchy\n",
    "\n",
    "# get the linkage information\n",
    "linkage = hierarchy.linkage(df, 'average')\n",
    "\n",
    "# create a dendrogram using linkage data\n",
    "dendrogram = hierarchy.dendrogram(linkage)"
   ]
  },
  {
   "cell_type": "code",
   "execution_count": 41,
   "id": "eedce98d-9ec3-42c2-967c-132511974c6e",
   "metadata": {},
   "outputs": [],
   "source": [
    "from sklearn.cluster import DBSCAN\n",
    "\n",
    "# create an object of DBScan\n",
    "dbscan = DBSCAN(eps=0.15, min_samples=5)\n",
    "\n",
    "# fit the data\n",
    "dbscan = dbscan.fit(df)"
   ]
  },
  {
   "cell_type": "code",
   "execution_count": null,
   "id": "2ea0a295-15af-4816-ad95-b6f191f3827a",
   "metadata": {},
   "outputs": [],
   "source": []
  }
 ],
 "metadata": {
  "kernelspec": {
   "display_name": "Python (ml_env)",
   "language": "python",
   "name": "ml_env"
  },
  "language_info": {
   "codemirror_mode": {
    "name": "ipython",
    "version": 3
   },
   "file_extension": ".py",
   "mimetype": "text/x-python",
   "name": "python",
   "nbconvert_exporter": "python",
   "pygments_lexer": "ipython3",
   "version": "3.12.3"
  }
 },
 "nbformat": 4,
 "nbformat_minor": 5
}
