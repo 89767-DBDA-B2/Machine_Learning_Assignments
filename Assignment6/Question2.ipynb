{
 "cells": [
  {
   "cell_type": "markdown",
   "id": "66485f8d-05c8-44db-b75d-65698fdf4611",
   "metadata": {},
   "source": [
    "### Pre requisites"
   ]
  },
  {
   "cell_type": "code",
   "execution_count": 2,
   "id": "8a4f699f-acca-4207-a020-a83a6baabf4c",
   "metadata": {},
   "outputs": [],
   "source": [
    "import warnings\n",
    "warnings.filterwarnings(action=\"ignore\")"
   ]
  },
  {
   "cell_type": "markdown",
   "id": "b3a04dd7-7e8b-4a84-a186-28e3dd628e73",
   "metadata": {},
   "source": [
    "### import packages"
   ]
  },
  {
   "cell_type": "code",
   "execution_count": 3,
   "id": "ba2ac229-72cc-4a97-96d2-afdbf91a0fe8",
   "metadata": {},
   "outputs": [],
   "source": [
    "import numpy as np \n",
    "import pandas as pd \n",
    "import matplotlib.pyplot as plt \n",
    "import seaborn as sns "
   ]
  },
  {
   "cell_type": "markdown",
   "id": "3ee1042d-2f69-4267-9230-7d5488f2cda3",
   "metadata": {},
   "source": [
    "### Load the file "
   ]
  },
  {
   "cell_type": "code",
   "execution_count": 4,
   "id": "9feb347b-203b-49ad-91eb-56f3a6664539",
   "metadata": {},
   "outputs": [
    {
     "data": {
      "text/html": [
       "<div>\n",
       "<style scoped>\n",
       "    .dataframe tbody tr th:only-of-type {\n",
       "        vertical-align: middle;\n",
       "    }\n",
       "\n",
       "    .dataframe tbody tr th {\n",
       "        vertical-align: top;\n",
       "    }\n",
       "\n",
       "    .dataframe thead th {\n",
       "        text-align: right;\n",
       "    }\n",
       "</style>\n",
       "<table border=\"1\" class=\"dataframe\">\n",
       "  <thead>\n",
       "    <tr style=\"text-align: right;\">\n",
       "      <th></th>\n",
       "      <th>Unnamed: 0</th>\n",
       "      <th>Murder</th>\n",
       "      <th>Assault</th>\n",
       "      <th>UrbanPop</th>\n",
       "      <th>Rape</th>\n",
       "    </tr>\n",
       "  </thead>\n",
       "  <tbody>\n",
       "    <tr>\n",
       "      <th>0</th>\n",
       "      <td>Alabama</td>\n",
       "      <td>13.2</td>\n",
       "      <td>236</td>\n",
       "      <td>58</td>\n",
       "      <td>21.2</td>\n",
       "    </tr>\n",
       "    <tr>\n",
       "      <th>1</th>\n",
       "      <td>Alaska</td>\n",
       "      <td>10.0</td>\n",
       "      <td>263</td>\n",
       "      <td>48</td>\n",
       "      <td>44.5</td>\n",
       "    </tr>\n",
       "    <tr>\n",
       "      <th>2</th>\n",
       "      <td>Arizona</td>\n",
       "      <td>8.1</td>\n",
       "      <td>294</td>\n",
       "      <td>80</td>\n",
       "      <td>31.0</td>\n",
       "    </tr>\n",
       "    <tr>\n",
       "      <th>3</th>\n",
       "      <td>Arkansas</td>\n",
       "      <td>8.8</td>\n",
       "      <td>190</td>\n",
       "      <td>50</td>\n",
       "      <td>19.5</td>\n",
       "    </tr>\n",
       "    <tr>\n",
       "      <th>4</th>\n",
       "      <td>California</td>\n",
       "      <td>9.0</td>\n",
       "      <td>276</td>\n",
       "      <td>91</td>\n",
       "      <td>40.6</td>\n",
       "    </tr>\n",
       "  </tbody>\n",
       "</table>\n",
       "</div>"
      ],
      "text/plain": [
       "   Unnamed: 0  Murder  Assault  UrbanPop  Rape\n",
       "0     Alabama    13.2      236        58  21.2\n",
       "1      Alaska    10.0      263        48  44.5\n",
       "2     Arizona     8.1      294        80  31.0\n",
       "3    Arkansas     8.8      190        50  19.5\n",
       "4  California     9.0      276        91  40.6"
      ]
     },
     "execution_count": 4,
     "metadata": {},
     "output_type": "execute_result"
    }
   ],
   "source": [
    "df = pd.read_csv(\"./crime_data.csv\")\n",
    "df.head(5)"
   ]
  },
  {
   "cell_type": "markdown",
   "id": "328e2489-193a-46f8-8830-6aeb4400d576",
   "metadata": {},
   "source": [
    "### Preprocessing the data "
   ]
  },
  {
   "cell_type": "code",
   "execution_count": 5,
   "id": "4c786bfb-14ec-4ac0-956f-d9bca011a73c",
   "metadata": {},
   "outputs": [],
   "source": [
    "df.drop(['Unnamed: 0'], axis=1, inplace=True)"
   ]
  },
  {
   "cell_type": "code",
   "execution_count": 6,
   "id": "2aca7312-a8d6-4680-bf41-b9856ee0d8c5",
   "metadata": {},
   "outputs": [
    {
     "data": {
      "text/html": [
       "<div>\n",
       "<style scoped>\n",
       "    .dataframe tbody tr th:only-of-type {\n",
       "        vertical-align: middle;\n",
       "    }\n",
       "\n",
       "    .dataframe tbody tr th {\n",
       "        vertical-align: top;\n",
       "    }\n",
       "\n",
       "    .dataframe thead th {\n",
       "        text-align: right;\n",
       "    }\n",
       "</style>\n",
       "<table border=\"1\" class=\"dataframe\">\n",
       "  <thead>\n",
       "    <tr style=\"text-align: right;\">\n",
       "      <th></th>\n",
       "      <th>Murder</th>\n",
       "      <th>Assault</th>\n",
       "      <th>UrbanPop</th>\n",
       "      <th>Rape</th>\n",
       "    </tr>\n",
       "  </thead>\n",
       "  <tbody>\n",
       "    <tr>\n",
       "      <th>0</th>\n",
       "      <td>13.2</td>\n",
       "      <td>236</td>\n",
       "      <td>58</td>\n",
       "      <td>21.2</td>\n",
       "    </tr>\n",
       "    <tr>\n",
       "      <th>1</th>\n",
       "      <td>10.0</td>\n",
       "      <td>263</td>\n",
       "      <td>48</td>\n",
       "      <td>44.5</td>\n",
       "    </tr>\n",
       "    <tr>\n",
       "      <th>2</th>\n",
       "      <td>8.1</td>\n",
       "      <td>294</td>\n",
       "      <td>80</td>\n",
       "      <td>31.0</td>\n",
       "    </tr>\n",
       "    <tr>\n",
       "      <th>3</th>\n",
       "      <td>8.8</td>\n",
       "      <td>190</td>\n",
       "      <td>50</td>\n",
       "      <td>19.5</td>\n",
       "    </tr>\n",
       "    <tr>\n",
       "      <th>4</th>\n",
       "      <td>9.0</td>\n",
       "      <td>276</td>\n",
       "      <td>91</td>\n",
       "      <td>40.6</td>\n",
       "    </tr>\n",
       "  </tbody>\n",
       "</table>\n",
       "</div>"
      ],
      "text/plain": [
       "   Murder  Assault  UrbanPop  Rape\n",
       "0    13.2      236        58  21.2\n",
       "1    10.0      263        48  44.5\n",
       "2     8.1      294        80  31.0\n",
       "3     8.8      190        50  19.5\n",
       "4     9.0      276        91  40.6"
      ]
     },
     "execution_count": 6,
     "metadata": {},
     "output_type": "execute_result"
    }
   ],
   "source": [
    "df.head(5)"
   ]
  },
  {
   "cell_type": "code",
   "execution_count": 7,
   "id": "4c7678af-e0bd-4444-b017-90879506bbce",
   "metadata": {},
   "outputs": [
    {
     "name": "stdout",
     "output_type": "stream",
     "text": [
      "<class 'pandas.core.frame.DataFrame'>\n",
      "RangeIndex: 50 entries, 0 to 49\n",
      "Data columns (total 4 columns):\n",
      " #   Column    Non-Null Count  Dtype  \n",
      "---  ------    --------------  -----  \n",
      " 0   Murder    50 non-null     float64\n",
      " 1   Assault   50 non-null     int64  \n",
      " 2   UrbanPop  50 non-null     int64  \n",
      " 3   Rape      50 non-null     float64\n",
      "dtypes: float64(2), int64(2)\n",
      "memory usage: 1.7 KB\n"
     ]
    }
   ],
   "source": [
    "df.info()"
   ]
  },
  {
   "cell_type": "code",
   "execution_count": 8,
   "id": "ca0710d8-5dd1-4551-88a5-14ba3cc37354",
   "metadata": {},
   "outputs": [
    {
     "data": {
      "text/plain": [
       "Murder      0\n",
       "Assault     0\n",
       "UrbanPop    0\n",
       "Rape        0\n",
       "dtype: int64"
      ]
     },
     "execution_count": 8,
     "metadata": {},
     "output_type": "execute_result"
    }
   ],
   "source": [
    "df.isna().sum()"
   ]
  },
  {
   "cell_type": "code",
   "execution_count": null,
   "id": "3c9ec2c8-614a-4271-9273-c639c7cd2f4c",
   "metadata": {},
   "outputs": [],
   "source": []
  },
  {
   "cell_type": "code",
   "execution_count": 9,
   "id": "db3a1841-677b-42be-8a47-7491fc354a4b",
   "metadata": {},
   "outputs": [],
   "source": [
    "from sklearn.cluster import KMeans \n",
    "kmeans = KMeans(n_clusters=3) \n",
    "kmeans = kmeans.fit(df)"
   ]
  },
  {
   "cell_type": "code",
   "execution_count": 10,
   "id": "d7da0a78-6626-4173-8f90-327a62ff93db",
   "metadata": {},
   "outputs": [
    {
     "data": {
      "text/plain": [
       "array([0, 2, 2, 0, 2, 0, 1, 0, 2, 0, 1, 1, 0, 1, 1, 1, 1, 0, 1, 2, 1, 0,\n",
       "       1, 2, 0, 1, 1, 0, 1, 1, 2, 0, 2, 1, 1, 1, 1, 1, 0, 2, 1, 0, 0, 1,\n",
       "       1, 1, 1, 1, 1, 1], dtype=int32)"
      ]
     },
     "execution_count": 10,
     "metadata": {},
     "output_type": "execute_result"
    }
   ],
   "source": [
    "kmeans.labels_"
   ]
  },
  {
   "cell_type": "code",
   "execution_count": 11,
   "id": "d0f574b2-41e4-41d8-82ef-ca889b2f2e92",
   "metadata": {},
   "outputs": [
    {
     "data": {
      "text/plain": [
       "array([[ 10.90714286, 219.92857143,  71.71428571,  25.95      ],\n",
       "       [  4.74074074, 104.85185185,  62.96296296,  16.1       ],\n",
       "       [ 12.07777778, 292.        ,  63.66666667,  29.28888889]])"
      ]
     },
     "execution_count": 11,
     "metadata": {},
     "output_type": "execute_result"
    }
   ],
   "source": [
    "kmeans.cluster_centers_\n"
   ]
  },
  {
   "cell_type": "code",
   "execution_count": 12,
   "id": "52aff068-155e-46a8-b468-7aed59a9ab98",
   "metadata": {},
   "outputs": [
    {
     "data": {
      "text/plain": [
       "array([ 10.90714286, 219.92857143,  71.71428571,  25.95      ])"
      ]
     },
     "execution_count": 12,
     "metadata": {},
     "output_type": "execute_result"
    }
   ],
   "source": [
    "kmeans.cluster_centers_[0]"
   ]
  },
  {
   "cell_type": "code",
   "execution_count": 35,
   "id": "9d828bfe-413e-4a0b-be08-749d23411625",
   "metadata": {},
   "outputs": [
    {
     "data": {
      "text/plain": [
       "<matplotlib.collections.PathCollection at 0x72b9e50aa360>"
      ]
     },
     "execution_count": 35,
     "metadata": {},
     "output_type": "execute_result"
    },
    {
     "data": {
      "image/png": "[encoded data removed]",
      "text/plain": [
       "<Figure size 640x480 with 1 Axes>"
      ]
     },
     "metadata": {},
     "output_type": "display_data"
    }
   ],
   "source": [
    "plt.scatter(df['Assault'][kmeans.labels_==0], df['UrbanPop'][kmeans.labels_==0], color=\"red\")\n",
    "plt.scatter(df['Assault'][kmeans.labels_==1], df['UrbanPop'][kmeans.labels_==1], color=\"purple\")\n",
    "plt.scatter(df['Assault'][kmeans.labels_==2], df['UrbanPop'][kmeans.labels_==2], color=\"yellow\") \n",
    "plt.scatter(df['Assault'][kmeans.labels_==3], df['UrbanPop'][kmeans.labels_==3], color=\"orange\") \n",
    "plt.scatter(df['Assault'][kmeans.labels_==4], df['UrbanPop'][kmeans.labels_==4], color=\"blue\")"
   ]
  },
  {
   "cell_type": "code",
   "execution_count": 14,
   "id": "4e118851-74d8-4a6f-8fd2-da3c665e7900",
   "metadata": {},
   "outputs": [],
   "source": [
    "from sklearn.cluster import KMeans\n",
    "\n",
    "# create a list to get the within sum of squares for difrerent no of clusters\n",
    "wss = []\n",
    "\n",
    "# create a loop to find the wss for different no of clusters\n",
    "for k in range(1, 10):\n",
    "\n",
    "    # create KMeans object\n",
    "    kmeans = KMeans(n_clusters=k)\n",
    "\n",
    "    # fit the data\n",
    "    clusters_info = kmeans.fit(df)\n",
    "\n",
    "    # collect the wss for k\n",
    "    wss.append(clusters_info.inertia_)"
   ]
  },
  {
   "cell_type": "code",
   "execution_count": 15,
   "id": "1e18f965-7218-416c-8997-8a10ec458ad2",
   "metadata": {},
   "outputs": [
    {
     "data": {
      "text/plain": [
       "[355807.8216,\n",
       " 96399.02814449917,\n",
       " 47964.26535714285,\n",
       " 34728.629357142854,\n",
       " 27657.160890756306,\n",
       " 21739.509790598288,\n",
       " 18107.948634920638,\n",
       " 17238.480031746032,\n",
       " 13921.90180952381]"
      ]
     },
     "execution_count": 15,
     "metadata": {},
     "output_type": "execute_result"
    }
   ],
   "source": [
    "wss"
   ]
  },
  {
   "cell_type": "code",
   "execution_count": 16,
   "id": "9334d9a6-4660-4783-a5c1-810e3762b90c",
   "metadata": {},
   "outputs": [
    {
     "data": {
      "text/plain": [
       "<matplotlib.legend.Legend at 0x72b9ed61e690>"
      ]
     },
     "execution_count": 16,
     "metadata": {},
     "output_type": "execute_result"
    },
    {
     "data": {
      "image/png": "[encoded data removed]",
      "text/plain": [
       "<Figure size 640x480 with 1 Axes>"
      ]
     },
     "metadata": {},
     "output_type": "display_data"
    }
   ],
   "source": [
    "plt.scatter(range(1, 10), wss, label=\"WSS\")\n",
    "plt.plot(range(1, 10), wss)\n",
    "plt.xlabel(\"No of clusters\")\n",
    "plt.ylabel(\"WSS\")\n",
    "plt.title(\"Elbow Method\")\n",
    "plt.legend()"
   ]
  },
  {
   "cell_type": "code",
   "execution_count": 23,
   "id": "5550e506-d9af-4862-8f95-9fe9e6cc9854",
   "metadata": {},
   "outputs": [],
   "source": [
    "from sklearn.cluster import AgglomerativeClustering\n",
    "\n",
    "# create an object of AgglomerativeClustering\n",
    "cluster_info = AgglomerativeClustering(n_clusters=5)\n",
    "\n",
    "# build the clusters\n",
    "cluster_info = cluster_info.fit(df)"
   ]
  },
  {
   "cell_type": "code",
   "execution_count": 24,
   "id": "2fa74597-f66b-4992-8cc5-c416ecf0753f",
   "metadata": {},
   "outputs": [
    {
     "data": {
      "text/plain": [
       "array([1, 1, 2, 0, 2, 0, 3, 1, 2, 0, 4, 3, 1, 3, 4, 3, 3, 1, 4, 2, 0, 1,\n",
       "       4, 1, 0, 3, 3, 1, 4, 0, 2, 1, 2, 4, 3, 0, 0, 3, 0, 1, 4, 0, 0, 3,\n",
       "       4, 0, 0, 4, 4, 0])"
      ]
     },
     "execution_count": 24,
     "metadata": {},
     "output_type": "execute_result"
    }
   ],
   "source": [
    "cluster_info.labels_"
   ]
  },
  {
   "cell_type": "code",
   "execution_count": 25,
   "id": "670fb861-3d86-4454-a641-2e92331e87d3",
   "metadata": {},
   "outputs": [
    {
     "data": {
      "text/plain": [
       "array([[ 12.66666667, 205.33333333,  72.66666667,  30.        ],\n",
       "       [  5.59      , 112.4       ,  65.6       ,  17.27      ],\n",
       "       [ 12.12      , 298.6       ,  69.        ,  29.06      ],\n",
       "       [  2.55714286,  53.85714286,  57.71428571,  12.17142857],\n",
       "       [  5.75      , 156.75      ,  74.        ,  19.4       ],\n",
       "       [ 11.54      , 253.1       ,  70.3       ,  29.26      ],\n",
       "       [  3.86666667,  83.33333333,  45.        ,   9.96666667],\n",
       "       [ 13.        , 337.        ,  45.        ,  16.1       ],\n",
       "       [ 10.33333333, 185.33333333,  59.66666667,  24.86666667]])"
      ]
     },
     "execution_count": 25,
     "metadata": {},
     "output_type": "execute_result"
    }
   ],
   "source": [
    "clusters_info.cluster_centers_"
   ]
  },
  {
   "cell_type": "code",
   "execution_count": 26,
   "id": "825b7b48-f332-46a8-a0db-b107a1c42c1d",
   "metadata": {},
   "outputs": [
    {
     "name": "stdout",
     "output_type": "stream",
     "text": [
      "<class 'pandas.core.frame.DataFrame'>\n",
      "RangeIndex: 50 entries, 0 to 49\n",
      "Data columns (total 4 columns):\n",
      " #   Column    Non-Null Count  Dtype  \n",
      "---  ------    --------------  -----  \n",
      " 0   Murder    50 non-null     float64\n",
      " 1   Assault   50 non-null     int64  \n",
      " 2   UrbanPop  50 non-null     int64  \n",
      " 3   Rape      50 non-null     float64\n",
      "dtypes: float64(2), int64(2)\n",
      "memory usage: 1.7 KB\n"
     ]
    }
   ],
   "source": [
    "df.info()"
   ]
  },
  {
   "cell_type": "code",
   "execution_count": 32,
   "id": "514c8ac6-f6ef-49d6-9da2-9a6936281d62",
   "metadata": {},
   "outputs": [
    {
     "data": {
      "text/plain": [
       "<matplotlib.collections.PathCollection at 0x72b9e5033920>"
      ]
     },
     "execution_count": 32,
     "metadata": {},
     "output_type": "execute_result"
    },
    {
     "data": {
      "image/png": "[encoded data removed]",
      "text/plain": [
       "<Figure size 640x480 with 1 Axes>"
      ]
     },
     "metadata": {},
     "output_type": "display_data"
    }
   ],
   "source": [
    "plt.scatter(df['Assault'][cluster_info.labels_==0], df['UrbanPop'][cluster_info.labels_==0], color='red')\n",
    "plt.scatter(df['Assault'][cluster_info.labels_==1], df['UrbanPop'][cluster_info.labels_==1], color='green')\n",
    "plt.scatter(df['Assault'][cluster_info.labels_==2], df['UrbanPop'][cluster_info.labels_==2], color='purple')\n",
    "plt.scatter(df['Assault'][cluster_info.labels_==3], df['UrbanPop'][cluster_info.labels_==3], color='orange')\n",
    "plt.scatter(df['Assault'][cluster_info.labels_==4], df['UrbanPop'][cluster_info.labels_==4], color='yellow')"
   ]
  },
  {
   "cell_type": "code",
   "execution_count": 33,
   "id": "8dd4a21a-9056-441d-8e8b-bf4a31a0f5be",
   "metadata": {},
   "outputs": [],
   "source": [
    "from sklearn.cluster import DBSCAN\n",
    "\n",
    "# create an object of DBScan\n",
    "dbscan = DBSCAN(eps=0.15, min_samples=5)\n",
    "\n",
    "# fit the data\n",
    "dbscan = dbscan.fit(df)"
   ]
  },
  {
   "cell_type": "code",
   "execution_count": 34,
   "id": "4577d5ed-9de9-4e23-ae7a-e1687a796ade",
   "metadata": {},
   "outputs": [
    {
     "data": {
      "text/plain": [
       "<matplotlib.collections.PathCollection at 0x72b9e50aa3c0>"
      ]
     },
     "execution_count": 34,
     "metadata": {},
     "output_type": "execute_result"
    },
    {
     "data": {
      "image/png": "[encoded data removed]",
      "text/plain": [
       "<Figure size 640x480 with 1 Axes>"
      ]
     },
     "metadata": {},
     "output_type": "display_data"
    }
   ],
   "source": [
    "plt.scatter(df['Assault'][cluster_info.labels_==0], df['UrbanPop'][cluster_info.labels_==0], color='red')\n",
    "plt.scatter(df['Assault'][cluster_info.labels_==1], df['UrbanPop'][cluster_info.labels_==1], color='green')\n",
    "plt.scatter(df['Assault'][cluster_info.labels_==2], df['UrbanPop'][cluster_info.labels_==2], color='purple')\n",
    "plt.scatter(df['Assault'][cluster_info.labels_==3], df['UrbanPop'][cluster_info.labels_==3], color='orange')\n",
    "plt.scatter(df['Assault'][cluster_info.labels_==4], df['UrbanPop'][cluster_info.labels_==4], color='yellow')"
   ]
  },
  {
   "cell_type": "code",
   "execution_count": null,
   "id": "ea5c68a6-1a19-4592-b8bf-3def4914c0db",
   "metadata": {},
   "outputs": [],
   "source": []
  }
 ],
 "metadata": {
  "kernelspec": {
   "display_name": "Python (ml_env)",
   "language": "python",
   "name": "ml_env"
  },
  "language_info": {
   "codemirror_mode": {
    "name": "ipython",
    "version": 3
   },
   "file_extension": ".py",
   "mimetype": "text/x-python",
   "name": "python",
   "nbconvert_exporter": "python",
   "pygments_lexer": "ipython3",
   "version": "3.12.3"
  }
 },
 "nbformat": 4,
 "nbformat_minor": 5
}
