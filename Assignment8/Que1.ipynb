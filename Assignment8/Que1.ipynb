{
 "cells": [
  {
   "cell_type": "code",
   "execution_count": null,
   "id": "d73bbaab-111f-4e82-91d1-3658cce39c7c",
   "metadata": {},
   "outputs": [],
   "source": [
    "Que. 1\n",
    "\n",
    "Consider following datasets , do proper EDA (i.e. Scaling, Resampling (if needed), Outlier Handling) on each datasets \n",
    "and preapare any three classification models & select best one of them.\n",
    "\n",
    "Datasets:\n",
    "wine.csv\n",
    "framingham.csv\n",
    "claimants.csv\n",
    "glass.csv\n",
    "churn.csv"
   ]
  },
  {
   "cell_type": "code",
   "execution_count": null,
   "id": "ecb4f4f1-3faa-4452-9cee-7b9c4306a3fe",
   "metadata": {},
   "outputs": [],
   "source": []
  }
 ],
 "metadata": {
  "kernelspec": {
   "display_name": "Python (ml_env)",
   "language": "python",
   "name": "ml_env"
  },
  "language_info": {
   "codemirror_mode": {
    "name": "ipython",
    "version": 3
   },
   "file_extension": ".py",
   "mimetype": "text/x-python",
   "name": "python",
   "nbconvert_exporter": "python",
   "pygments_lexer": "ipython3",
   "version": "3.12.3"
  }
 },
 "nbformat": 4,
 "nbformat_minor": 5
}
